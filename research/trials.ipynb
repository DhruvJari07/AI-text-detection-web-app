{
 "cells": [
  {
   "cell_type": "code",
   "execution_count": 2,
   "metadata": {},
   "outputs": [],
   "source": [
    "import gdown"
   ]
  },
  {
   "cell_type": "code",
   "execution_count": 3,
   "metadata": {},
   "outputs": [],
   "source": [
    "url = \"https://drive.google.com/file/d/1exDvwtVb3ZA5hotrWSQuu4iIAs_oD3s5/view?usp=sharing\""
   ]
  },
  {
   "cell_type": "code",
   "execution_count": 6,
   "metadata": {},
   "outputs": [],
   "source": [
    "file_id = url.split(\"/\")[-2]"
   ]
  },
  {
   "cell_type": "code",
   "execution_count": 7,
   "metadata": {},
   "outputs": [],
   "source": [
    "prefix = \"https://drive.google.com/uc?/export=download&id=\""
   ]
  },
  {
   "cell_type": "code",
   "execution_count": 8,
   "metadata": {},
   "outputs": [
    {
     "name": "stderr",
     "output_type": "stream",
     "text": [
      "Downloading...\n",
      "From (original): https://drive.google.com/uc?/export=download&id=1exDvwtVb3ZA5hotrWSQuu4iIAs_oD3s5\n",
      "From (redirected): https://drive.google.com/uc?%2Fexport=download&id=1exDvwtVb3ZA5hotrWSQuu4iIAs_oD3s5&confirm=t&uuid=9fe70c8d-597d-49c8-9d69-fe831342769e\n",
      "To: c:\\Users\\Dhruv\\OneDrive\\Desktop\\AI-text-detection-web-app\\research\\AI_Human.csv\n",
      "100%|██████████| 1.11G/1.11G [05:09<00:00, 3.60MB/s]\n"
     ]
    },
    {
     "data": {
      "text/plain": [
       "'AI_Human.csv'"
      ]
     },
     "execution_count": 8,
     "metadata": {},
     "output_type": "execute_result"
    }
   ],
   "source": [
    "gdown.download(prefix+file_id)"
   ]
  },
  {
   "cell_type": "code",
   "execution_count": null,
   "metadata": {},
   "outputs": [],
   "source": []
  }
 ],
 "metadata": {
  "kernelspec": {
   "display_name": "textdetection",
   "language": "python",
   "name": "python3"
  },
  "language_info": {
   "codemirror_mode": {
    "name": "ipython",
    "version": 3
   },
   "file_extension": ".py",
   "mimetype": "text/x-python",
   "name": "python",
   "nbconvert_exporter": "python",
   "pygments_lexer": "ipython3",
   "version": "3.10.13"
  }
 },
 "nbformat": 4,
 "nbformat_minor": 2
}
