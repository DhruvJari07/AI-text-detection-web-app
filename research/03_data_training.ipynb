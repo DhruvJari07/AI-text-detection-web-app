{
 "cells": [
  {
   "cell_type": "code",
   "execution_count": 1,
   "metadata": {},
   "outputs": [
    {
     "data": {
      "text/plain": [
       "'c:\\\\Users\\\\Dhruv\\\\OneDrive\\\\Desktop\\\\AI-text-detection-web-app\\\\research'"
      ]
     },
     "execution_count": 1,
     "metadata": {},
     "output_type": "execute_result"
    }
   ],
   "source": [
    "import os\n",
    "%pwd"
   ]
  },
  {
   "cell_type": "code",
   "execution_count": 2,
   "metadata": {},
   "outputs": [],
   "source": [
    "os.chdir(\"../\")"
   ]
  },
  {
   "cell_type": "code",
   "execution_count": 3,
   "metadata": {},
   "outputs": [
    {
     "data": {
      "text/plain": [
       "'c:\\\\Users\\\\Dhruv\\\\OneDrive\\\\Desktop\\\\AI-text-detection-web-app'"
      ]
     },
     "execution_count": 3,
     "metadata": {},
     "output_type": "execute_result"
    }
   ],
   "source": [
    "%pwd"
   ]
  },
  {
   "cell_type": "code",
   "execution_count": 14,
   "metadata": {},
   "outputs": [],
   "source": [
    "import pandas as pd"
   ]
  },
  {
   "cell_type": "code",
   "execution_count": 15,
   "metadata": {},
   "outputs": [],
   "source": [
    "X_train=pd.read_csv(\"artifacts/data_transformation/X_train.csv\")\n",
    "X_test=pd.read_csv(\"artifacts/data_transformation/X_test.csv\")\n",
    "y_train=pd.read_csv(\"artifacts/data_transformation/y_train.csv\")\n",
    "y_test=pd.read_csv(\"artifacts/data_transformation/y_test.csv\")"
   ]
  },
  {
   "cell_type": "code",
   "execution_count": 20,
   "metadata": {},
   "outputs": [],
   "source": [
    "y_train = y_train[\"generated\"]\n",
    "y_test = y_test[\"generated\"]\n",
    "X_test = X_test[\"text\"]\n",
    "X_train = X_train[\"text\"]"
   ]
  },
  {
   "cell_type": "code",
   "execution_count": 21,
   "metadata": {},
   "outputs": [],
   "source": [
    "from dataclasses import dataclass\n",
    "from pathlib import Path\n",
    "\n",
    "\n",
    "@dataclass(frozen=True)\n",
    "class ModelTrainingConfig:\n",
    "    root_dir: Path\n",
    "    trained_model_path: Path"
   ]
  },
  {
   "cell_type": "code",
   "execution_count": 23,
   "metadata": {},
   "outputs": [
    {
     "data": {
      "text/plain": [
       "<module 'AI_Text_Detection.utils.common' from 'c:\\\\users\\\\dhruv\\\\onedrive\\\\desktop\\\\ai-text-detection-web-app\\\\src\\\\AI_Text_Detection\\\\utils\\\\common.py'>"
      ]
     },
     "execution_count": 23,
     "metadata": {},
     "output_type": "execute_result"
    }
   ],
   "source": [
    "import importlib\n",
    "import AI_Text_Detection.utils.common as function\n",
    "\n",
    "# Reload function module\n",
    "importlib.reload(function)"
   ]
  },
  {
   "cell_type": "code",
   "execution_count": 24,
   "metadata": {},
   "outputs": [],
   "source": [
    "from AI_Text_Detection.constants import *\n",
    "from AI_Text_Detection.utils.common import read_yaml, create_directories, save_object"
   ]
  },
  {
   "cell_type": "code",
   "execution_count": 25,
   "metadata": {},
   "outputs": [],
   "source": [
    "class ConfigurationManager:\n",
    "    def __init__(\n",
    "        self,\n",
    "        config_filepath = CONFIG_FILE_PATH,\n",
    "        params_filepath = PARAMS_FILE_PATH):\n",
    "\n",
    "        self.config = read_yaml(config_filepath)\n",
    "        self.params = read_yaml(params_filepath)\n",
    "\n",
    "        create_directories([self.config.artifacts_root])\n",
    "\n",
    "    def get_model_training_config(self) -> ModelTrainingConfig:\n",
    "        config = self.config.model_training\n",
    "\n",
    "        create_directories([config.root_dir])\n",
    "\n",
    "        model_training_config = ModelTrainingConfig(\n",
    "            root_dir=config.root_dir,\n",
    "            trained_model_path=config.trained_model_path\n",
    "        )\n",
    "\n",
    "        return model_training_config"
   ]
  },
  {
   "cell_type": "code",
   "execution_count": 26,
   "metadata": {},
   "outputs": [],
   "source": [
    "from sklearn.pipeline import Pipeline\n",
    "from sklearn.feature_extraction.text import CountVectorizer, TfidfTransformer\n",
    "from sklearn.naive_bayes import MultinomialNB, ComplementNB\n",
    "from sklearn.svm import SVC, LinearSVC\n",
    "from AI_Text_Detection import logger\n",
    "from AI_Text_Detection.exception import CustomException\n",
    "import sys\n",
    "from sklearn.metrics import accuracy_score"
   ]
  },
  {
   "cell_type": "code",
   "execution_count": 38,
   "metadata": {},
   "outputs": [],
   "source": [
    "class ModelTraining:\n",
    "    def __init__(self, config: ModelTrainingConfig):\n",
    "        self.config = config\n",
    "\n",
    "    def create_model_pipeline(self):\n",
    "        '''\n",
    "        creating the model pipeline using Naive Bayes, Complement Naive Bayes\n",
    "        & Linear SVC algorithm\n",
    "        '''\n",
    "        try: \n",
    "            logger.info(f\"model pipeline building initiated\")\n",
    "\n",
    "            pipelineMNB = Pipeline([\n",
    "                ('count_vectorizer', CountVectorizer(stop_words='english')),  # Step 1: CountVectorizer\n",
    "                ('tfidf_transformer', TfidfTransformer()),  # Step 2: TF-IDF Transformer\n",
    "                ('naive_bayes', MultinomialNB())])\n",
    "\n",
    "            pipelineCNB = Pipeline([\n",
    "                ('count_vectorizer', CountVectorizer(stop_words='english')),  # Step 1: CountVectorizer\n",
    "                ('tfidf_transformer', TfidfTransformer()),  # Step 2: TF-IDF Transformer\n",
    "                ('Complement_Naive_Bayes', ComplementNB())])\n",
    "\n",
    "            pipelineSVC = Pipeline([\n",
    "                ('count_vectorizer', CountVectorizer(stop_words='english')),  # Step 1: CountVectorizer\n",
    "                ('tfidf_transformer', TfidfTransformer()),  # Step 2: TF-IDF Transformer\n",
    "                ('Linear SVC', LinearSVC())])\n",
    "            \n",
    "            logger.info(f\"Model pipeline created\")\n",
    "            \n",
    "            return {'naive_bayes':pipelineMNB, 'Complement_Naive_Bayes':pipelineCNB, 'Linear SVC':pipelineSVC}\n",
    "\n",
    "\n",
    "        except Exception as e:\n",
    "            raise CustomException(e, sys)\n",
    "        \n",
    "\n",
    "    def initiate_model_training(self, X_train, y_train, X_test, y_test, model_pipeline):\n",
    "        '''\n",
    "        training the model on the transformed data\n",
    "            \n",
    "        '''\n",
    "        try: \n",
    "            logger.info(f\"model traininng initiated\")\n",
    "\n",
    "            model_accuracy = {}\n",
    "            for model_name, pipeline in model_pipeline.items():\n",
    "                pipeline.fit(X_train, y_train)\n",
    "                y_pred = pipeline.predict(X_test)\n",
    "                accuracy = accuracy_score(y_test, y_pred)\n",
    "                model_accuracy[model_name] = accuracy\n",
    "\n",
    "            \n",
    "            logger.info(f\"model traininng completed\")\n",
    "\n",
    "            ## To get best model score from dict\n",
    "            best_model_score = max(sorted(model_accuracy.values()))\n",
    "\n",
    "            ## To get best model name from dict\n",
    "\n",
    "            best_model_name = list(model_accuracy.keys())[\n",
    "                list(model_accuracy.values()).index(best_model_score)\n",
    "            ]\n",
    "\n",
    "            best_model = model_pipeline[best_model_name]\n",
    "\n",
    "            print(model_accuracy)\n",
    "            print(best_model_name)\n",
    "            save_object(file_path=self.config.trained_model_path, obj=best_model)\n",
    "\n",
    "            return model_accuracy\n",
    "        \n",
    "    \n",
    "        except Exception as e:\n",
    "                raise CustomException(e, sys)\n",
    "\n"
   ]
  },
  {
   "cell_type": "code",
   "execution_count": 39,
   "metadata": {},
   "outputs": [],
   "source": [
    "STAGE_NAME = \"Model Training Stage\"\n",
    "\n",
    "class ModelTrainingPipeline:\n",
    "    def __init__(self):\n",
    "        pass\n",
    "\n",
    "    def main(self):\n",
    "        try:\n",
    "            config = ConfigurationManager()\n",
    "            model_training_config = config.get_model_training_config()\n",
    "            model_training = ModelTraining(config=model_training_config)\n",
    "            model_pipeline = model_training.create_model_pipeline()\n",
    "            model_accuracy = model_training.initiate_model_training(X_train, y_train, X_test, y_test, model_pipeline)\n",
    "            return model_accuracy\n",
    "            \n",
    "        except Exception as e:\n",
    "            raise CustomException(e, sys)\n",
    "        "
   ]
  },
  {
   "cell_type": "code",
   "execution_count": 40,
   "metadata": {},
   "outputs": [
    {
     "name": "stdout",
     "output_type": "stream",
     "text": [
      "[2024-03-19 16:36:44,373: INFO: 2342994688: >>>>>> stage Model Training Stage started <<<<<<]\n",
      "[2024-03-19 16:36:44,381: INFO: common: yaml file: config\\config.yaml loaded successfully]\n",
      "[2024-03-19 16:36:44,385: INFO: common: yaml file: params.yaml loaded successfully]\n",
      "[2024-03-19 16:36:44,386: INFO: common: created directory at: artifacts]\n",
      "[2024-03-19 16:36:44,389: INFO: common: created directory at: artifacts/model_training]\n",
      "[2024-03-19 16:36:44,392: INFO: 2691265254: model pipeline building initiated]\n",
      "[2024-03-19 16:36:44,394: INFO: 2691265254: Model pipeline created]\n",
      "[2024-03-19 16:36:44,395: INFO: 2691265254: model traininng initiated]\n",
      "[2024-03-19 16:36:44,672: INFO: 2691265254: model traininng completed]\n",
      "{'naive_bayes': 0.735, 'Complement_Naive_Bayes': 0.82, 'Linear SVC': 0.9}\n",
      "Linear SVC\n",
      "{'naive_bayes': 0.735, 'Complement_Naive_Bayes': 0.82, 'Linear SVC': 0.9}\n",
      "[2024-03-19 16:36:44,677: INFO: 2342994688: >>>>>> stage Model Training Stage completed <<<<<<\n",
      "\n",
      "x==========x]\n"
     ]
    },
    {
     "name": "stderr",
     "output_type": "stream",
     "text": [
      "c:\\Users\\Dhruv\\anaconda3\\envs\\AItextdetect\\lib\\site-packages\\sklearn\\svm\\_classes.py:31: FutureWarning: The default value of `dual` will change from `True` to `'auto'` in 1.5. Set the value of `dual` explicitly to suppress the warning.\n",
      "  warnings.warn(\n"
     ]
    }
   ],
   "source": [
    "if __name__ == '__main__':\n",
    "    try:\n",
    "        logger.info(f\">>>>>> stage {STAGE_NAME} started <<<<<<\")\n",
    "        obj = ModelTrainingPipeline()\n",
    "        model_accuracy = obj.main()\n",
    "        print(model_accuracy)\n",
    "        logger.info(f\">>>>>> stage {STAGE_NAME} completed <<<<<<\\n\\nx==========x\")\n",
    "    except Exception as e:\n",
    "        logger.exception(e)\n",
    "        raise CustomException(e, sys)"
   ]
  },
  {
   "cell_type": "code",
   "execution_count": 30,
   "metadata": {},
   "outputs": [],
   "source": [
    "from AI_Text_Detection.utils.common import load_object"
   ]
  },
  {
   "cell_type": "code",
   "execution_count": 41,
   "metadata": {},
   "outputs": [],
   "source": [
    "model = load_object(\"artifacts/model_training/model.pkl\")"
   ]
  },
  {
   "cell_type": "code",
   "execution_count": 42,
   "metadata": {},
   "outputs": [
    {
     "data": {
      "text/plain": [
       "array([0.])"
      ]
     },
     "execution_count": 42,
     "metadata": {},
     "output_type": "execute_result"
    }
   ],
   "source": [
    "model.predict([\"My name aarava, and i like black tea\"])"
   ]
  },
  {
   "cell_type": "code",
   "execution_count": 43,
   "metadata": {},
   "outputs": [
    {
     "name": "stdout",
     "output_type": "stream",
     "text": [
      "{'naive_bayes': 0.735, 'Complement_Naive_Bayes': 0.82, 'Linear SVC': 0.9}\n"
     ]
    }
   ],
   "source": [
    "print(model_accuracy)"
   ]
  },
  {
   "cell_type": "code",
   "execution_count": null,
   "metadata": {},
   "outputs": [],
   "source": []
  }
 ],
 "metadata": {
  "kernelspec": {
   "display_name": "AItextdetect",
   "language": "python",
   "name": "python3"
  },
  "language_info": {
   "codemirror_mode": {
    "name": "ipython",
    "version": 3
   },
   "file_extension": ".py",
   "mimetype": "text/x-python",
   "name": "python",
   "nbconvert_exporter": "python",
   "pygments_lexer": "ipython3",
   "version": "3.10.13"
  }
 },
 "nbformat": 4,
 "nbformat_minor": 2
}
